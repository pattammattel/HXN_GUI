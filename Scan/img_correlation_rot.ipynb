{
 "cells": [
  {
   "cell_type": "code",
   "execution_count": 2,
   "metadata": {},
   "outputs": [],
   "source": [
    "import sys,os,json,collections\n",
    "import tifffile as tf\n",
    "import matplotlib.pyplot as plt\n",
    "import cv2\n",
    "import numpy as np\n",
    "\n",
    "#ref1 https://github.com/darylclimb/image_affine_transform/blob/master/transformation.ipynb\n",
    "#https://docs.opencv.org/2.4/modules/imgproc/doc/geometric_transformations.html\n",
    "\n",
    "def rotateAndScale(img, scaleFactor = 0.5, InPlaneRot_Degree = 30):\n",
    "    (oldY,oldX) = img.shape #note: numpy uses (y,x) convention but most OpenCV functions use (x,y)\n",
    "    M = cv2.getRotationMatrix2D(center=(oldX/2,oldY/2), angle=InPlaneRot_Degree, scale=scaleFactor) #rotate about center of image.\n",
    "    print(M)\n",
    "    \n",
    "    #choose a new image size.\n",
    "    newX,newY = oldX*scaleFactor,oldY*scaleFactor\n",
    "    #include this if you want to prevent corners being cut off\n",
    "    r = np.deg2rad(InPlaneRot_Degree)\n",
    "    newX,newY = (abs(np.sin(r)*newY) + abs(np.cos(r)*newX),abs(np.sin(r)*newX) + abs(np.cos(r)*newY))\n",
    "\n",
    "    #the warpAffine function call, below, basically works like this:\n",
    "    # 1. apply the M transformation on each pixel of the original image\n",
    "    # 2. save everything that falls within the upper-left \"dsize\" portion of the resulting image.\n",
    "\n",
    "    #So I will find the translation that moves the result to the center of that region.\n",
    "    (tx,ty) = ((newX-oldX)/2,(newY-oldY)/2)\n",
    "    M[0,2] += tx #third column of matrix holds translation, which takes effect after rotation.\n",
    "    M[1,2] += ty\n",
    "\n",
    "    rotatedImg = cv2.warpAffine(np.float32(img), M, (int(newX),int(newY)))\n",
    "    return M, rotatedImg"
   ]
  },
  {
   "cell_type": "code",
   "execution_count": 3,
   "metadata": {},
   "outputs": [
    {
     "data": {
      "text/plain": [
       "(960, 1280)"
      ]
     },
     "execution_count": 3,
     "metadata": {},
     "output_type": "execute_result"
    }
   ],
   "source": [
    "img = cv2.imread('DB.tif').sum(-1)\n",
    "img.shape"
   ]
  },
  {
   "cell_type": "code",
   "execution_count": 14,
   "metadata": {},
   "outputs": [],
   "source": [
    "def rotateScaleTranslate(img, Translation = (1,1), scaleFactor = 0.5, InPlaneRot_Degree = 30):\n",
    "    (oldY,oldX) = img.shape #note: numpy uses (y,x) convention but most OpenCV functions use (x,y)\n",
    "    M = cv2.getRotationMatrix2D(center=(oldX/2,oldY/2), angle=InPlaneRot_Degree, scale=scaleFactor) #rotate about center of image.\n",
    "    print(M)\n",
    "    \n",
    "    #choose a new image size.\n",
    "    newX,newY = oldX*scaleFactor,oldY*scaleFactor\n",
    "    #include this if you want to prevent corners being cut off\n",
    "    r = np.deg2rad(InPlaneRot_Degree)\n",
    "    newX,newY = (abs(np.sin(r)*newY) + abs(np.cos(r)*newX),abs(np.sin(r)*newX) + abs(np.cos(r)*newY))\n",
    "\n",
    "    #the warpAffine function call, below, basically works like this:\n",
    "    # 1. apply the M transformation on each pixel of the original image\n",
    "    # 2. save everything that falls within the upper-left \"dsize\" portion of the resulting image.\n",
    "\n",
    "    #So I will find the translation that moves the result to the center of that region.\n",
    "    \n",
    "    M[0,2] += Translation[0] #third column of matrix holds translation, which takes effect after rotation.\n",
    "    M[1,2] += Translation[1]\n",
    "\n",
    "    rotatedImg = cv2.warpAffine(np.float32(img), M, (int(newX),int(newY)))\n",
    "    return M, rotatedImg"
   ]
  },
  {
   "cell_type": "code",
   "execution_count": 19,
   "metadata": {},
   "outputs": [
    {
     "name": "stdout",
     "output_type": "stream",
     "text": [
      "[[ 1.99238940e+00  1.74311485e-01 -7.18798727e+02]\n",
      " [-1.74311485e-01  1.99238940e+00 -3.64787559e+02]]\n"
     ]
    }
   ],
   "source": [
    "%matplotlib qt\n",
    "Transmatrix, rot_image = rotateAndScale(img, scaleFactor = 2, InPlaneRot_Degree = 5)\n",
    "fig, ax = plt.subplots(2,1)\n",
    "ax[0].imshow(img)\n",
    "ax[1].imshow(rot_image)\n",
    "plt.show()"
   ]
  },
  {
   "cell_type": "code",
   "execution_count": 20,
   "metadata": {},
   "outputs": [
    {
     "data": {
      "text/plain": [
       "array([[ 1.99238940e+00,  1.74311485e-01,  0.00000000e+00],\n",
       "       [-1.74311485e-01,  1.99238940e+00,  2.23118701e+02]])"
      ]
     },
     "execution_count": 20,
     "metadata": {},
     "output_type": "execute_result"
    }
   ],
   "source": [
    "Transmatrix"
   ]
  },
  {
   "cell_type": "code",
   "execution_count": 21,
   "metadata": {},
   "outputs": [
    {
     "data": {
      "text/plain": [
       "132"
      ]
     },
     "execution_count": 21,
     "metadata": {},
     "output_type": "execute_result"
    }
   ],
   "source": [
    "img[0,0]"
   ]
  },
  {
   "cell_type": "code",
   "execution_count": 24,
   "metadata": {},
   "outputs": [
    {
     "ename": "ValueError",
     "evalue": "matmul: Input operand 1 has a mismatch in its core dimension 0, with gufunc signature (n?,k),(k,m?)->(n?,m?) (size 2 is different from 3)",
     "output_type": "error",
     "traceback": [
      "\u001b[1;31m---------------------------------------------------------------------------\u001b[0m",
      "\u001b[1;31mValueError\u001b[0m                                Traceback (most recent call last)",
      "\u001b[1;32m<ipython-input-24-442da1262272>\u001b[0m in \u001b[0;36m<module>\u001b[1;34m\u001b[0m\n\u001b[1;32m----> 1\u001b[1;33m \u001b[0mTransmatrix\u001b[0m\u001b[1;33m@\u001b[0m\u001b[1;33m[\u001b[0m\u001b[1;36m0\u001b[0m\u001b[1;33m,\u001b[0m\u001b[1;36m0\u001b[0m\u001b[1;33m]\u001b[0m\u001b[1;33m\u001b[0m\u001b[1;33m\u001b[0m\u001b[0m\n\u001b[0m",
      "\u001b[1;31mValueError\u001b[0m: matmul: Input operand 1 has a mismatch in its core dimension 0, with gufunc signature (n?,k),(k,m?)->(n?,m?) (size 2 is different from 3)"
     ]
    }
   ],
   "source": [
    "Transmatrix@[0,0,1]"
   ]
  },
  {
   "cell_type": "code",
   "execution_count": 25,
   "metadata": {},
   "outputs": [],
   "source": [
    "def get_rotation(angle):\n",
    "    angle = np.radians(angle)\n",
    "    return np.array([\n",
    "        [np.cos(angle), -np.sin(angle), 0],\n",
    "        [np.sin(angle),  np.cos(angle), 0],\n",
    "        [0, 0, 1]\n",
    "    ])\n",
    "def get_translation(tx, ty):\n",
    "    return np.array([\n",
    "        [1, 0, tx],\n",
    "        [0, 1, ty],\n",
    "        [0, 0, 1]\n",
    "    ])\n",
    "\n",
    "def get_scale(s):\n",
    "    return np.array([\n",
    "        [s, 0, 0],\n",
    "        [0, s, 0],\n",
    "        [0, 0, 1]\n",
    "    ])\n",
    "\n",
    "R1 = get_rotation(135)\n",
    "T1 = get_translation(-2, 2)\n",
    "S1 = get_scale(2)"
   ]
  },
  {
   "cell_type": "code",
   "execution_count": 37,
   "metadata": {},
   "outputs": [],
   "source": [
    "coords = [1,1,1]\n",
    "M = S1@R1@T1"
   ]
  },
  {
   "cell_type": "code",
   "execution_count": 38,
   "metadata": {},
   "outputs": [
    {
     "data": {
      "text/plain": [
       "array([ 2.22044605e-16, -2.82842712e+00, -4.65685425e+00])"
      ]
     },
     "execution_count": 38,
     "metadata": {},
     "output_type": "execute_result"
    }
   ],
   "source": [
    "coords@M"
   ]
  },
  {
   "cell_type": "code",
   "execution_count": 39,
   "metadata": {},
   "outputs": [
    {
     "data": {
      "text/plain": [
       "array([ 2.22044605e-16, -2.82842712e+00, -4.65685425e+00])"
      ]
     },
     "execution_count": 39,
     "metadata": {},
     "output_type": "execute_result"
    }
   ],
   "source": [
    "s_c = coords@S1\n",
    "rs_c = s_c@R1\n",
    "trs_c = rs_c@T1\n",
    "trs_c"
   ]
  },
  {
   "cell_type": "code",
   "execution_count": 40,
   "metadata": {},
   "outputs": [
    {
     "data": {
      "text/plain": [
       "array([[-1.41421356e+00, -1.41421356e+00, -4.44089210e-16],\n",
       "       [ 1.41421356e+00, -1.41421356e+00, -5.65685425e+00],\n",
       "       [ 0.00000000e+00,  0.00000000e+00,  1.00000000e+00]])"
      ]
     },
     "execution_count": 40,
     "metadata": {},
     "output_type": "execute_result"
    }
   ],
   "source": [
    "M"
   ]
  },
  {
   "cell_type": "code",
   "execution_count": null,
   "metadata": {},
   "outputs": [],
   "source": []
  }
 ],
 "metadata": {
  "kernelspec": {
   "display_name": "Python 3",
   "language": "python",
   "name": "python3"
  },
  "language_info": {
   "codemirror_mode": {
    "name": "ipython",
    "version": 3
   },
   "file_extension": ".py",
   "mimetype": "text/x-python",
   "name": "python",
   "nbconvert_exporter": "python",
   "pygments_lexer": "ipython3",
   "version": "3.7.3"
  }
 },
 "nbformat": 4,
 "nbformat_minor": 2
}
