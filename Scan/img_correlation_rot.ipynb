{
 "cells": [
  {
   "cell_type": "code",
   "execution_count": 58,
   "metadata": {},
   "outputs": [],
   "source": [
    "import sys,os,json,collections\n",
    "import tifffile as tf\n",
    "import matplotlib.pyplot as plt\n",
    "import cv2\n",
    "import numpy as np\n",
    "\n",
    "#ref1 https://github.com/darylclimb/image_affine_transform/blob/master/transformation.ipynb\n",
    "#https://docs.opencv.org/2.4/modules/imgproc/doc/geometric_transformations.html\n",
    "#https://cristianpb.github.io/blog/image-rotation-opencv\n",
    "#https://www.pyimagesearch.com/2017/01/02/rotate-images-correctly-with-opencv-and-python/\n",
    "\n",
    "def rotateAndScale(img, scaleFactor = 0.5, InPlaneRot_Degree = 30):\n",
    "    (oldY,oldX) = img.shape #note: numpy uses (y,x) convention but most OpenCV functions use (x,y)\n",
    "    M = cv2.getRotationMatrix2D(center=(oldX/2,oldY/2), angle=InPlaneRot_Degree, scale=scaleFactor) #rotate about center of image.\n",
    "    print(M)\n",
    "    \n",
    "    #choose a new image size.\n",
    "    newX,newY = oldX*scaleFactor,oldY*scaleFactor\n",
    "    #include this if you want to prevent corners being cut off\n",
    "    r = np.deg2rad(InPlaneRot_Degree)\n",
    "    newX,newY = (abs(np.sin(r)*newY) + abs(np.cos(r)*newX),abs(np.sin(r)*newX) + abs(np.cos(r)*newY))\n",
    "\n",
    "    #the warpAffine function call, below, basically works like this:\n",
    "    # 1. apply the M transformation on each pixel of the original image\n",
    "    # 2. save everything that falls within the upper-left \"dsize\" portion of the resulting image.\n",
    "\n",
    "    #So I will find the translation that moves the result to the center of that region.\n",
    "    (tx,ty) = ((newX-oldX)/2,(newY-oldY)/2)\n",
    "    M[0,2] += tx #third column of matrix holds translation, which takes effect after rotation.\n",
    "    M[1,2] += ty\n",
    "\n",
    "    rotatedImg = cv2.warpAffine(np.float32(img), M, (int(newX),int(newY)))\n",
    "    return M, rotatedImg\n",
    "\n",
    "def rotateScaleTranslate(img, Translation = (1,1), scaleFactor = 0.5, InPlaneRot_Degree = 30):\n",
    "    (oldY,oldX) = img.shape #note: numpy uses (y,x) convention but most OpenCV functions use (x,y)\n",
    "    M = cv2.getRotationMatrix2D(center=(oldX/2,oldY/2), angle=InPlaneRot_Degree, scale=scaleFactor) #rotate about center of image.\n",
    "    print(M)\n",
    "    \n",
    "    #choose a new image size.\n",
    "    newX,newY = oldX*scaleFactor,oldY*scaleFactor\n",
    "    #include this if you want to prevent corners being cut off\n",
    "    r = np.deg2rad(InPlaneRot_Degree)\n",
    "    newX,newY = (abs(np.sin(r)*newY) + abs(np.cos(r)*newX),abs(np.sin(r)*newX) + abs(np.cos(r)*newY))\n",
    "\n",
    "    #the warpAffine function call, below, basically works like this:\n",
    "    # 1. apply the M transformation on each pixel of the original image\n",
    "    # 2. save everything that falls within the upper-left \"dsize\" portion of the resulting image.\n",
    "\n",
    "    #So I will find the translation that moves the result to the center of that region.\n",
    "    \n",
    "    M[0,2] += Translation[0] #third column of matrix holds translation, which takes effect after rotation.\n",
    "    M[1,2] += Translation[1]\n",
    "\n",
    "    rotatedImg = cv2.warpAffine(np.float32(img), M, (int(newX),int(newY)))\n",
    "    return M, rotatedImg\n",
    "\n",
    "\n",
    "def rotate_bound(image, angle):\n",
    "    # grab the dimensions of the image and then determine the\n",
    "    # centre\n",
    "    (h, w) = image.shape[:2]\n",
    "    (cX, cY) = (w // 2, h // 2)\n",
    "\n",
    "    # grab the rotation matrix (applying the negative of the\n",
    "    # angle to rotate clockwise), then grab the sine and cosine\n",
    "    # (i.e., the rotation components of the matrix)\n",
    "    M = cv2.getRotationMatrix2D((cX, cY), angle, 1.0)\n",
    "    cos = np.abs(M[0, 0])\n",
    "    sin = np.abs(M[0, 1])\n",
    "\n",
    "    # compute the new bounding dimensions of the image\n",
    "    nW = int((h * sin) + (w * cos))\n",
    "    nH = int((h * cos) + (w * sin))\n",
    "\n",
    "    # adjust the rotation matrix to take into account translation\n",
    "    M[0, 2] += (nW / 2) - cX\n",
    "    M[1, 2] += (nH / 2) - cY\n",
    "\n",
    "    # perform the actual rotation and return the image\n",
    "    return cv2.warpAffine(image, M, (nW, nH))\n",
    "\n",
    "\n",
    "def rotate_box(bb, cx, cy, h, w, theta=5):\n",
    "    new_bb = list(bb)\n",
    "    for i,coord in enumerate(bb):\n",
    "        # opencv calculates standard transformation matrix\n",
    "        theta = np.radians(theta)\n",
    "        M = cv2.getRotationMatrix2D((cx, cy), theta, 1.0)\n",
    "        # Grab  the rotation components of the matrix)\n",
    "        cos = np.abs(M[0, 0])\n",
    "        sin = np.abs(M[0, 1])\n",
    "        # compute the new bounding dimensions of the image\n",
    "        nW = int((h * sin) + (w * cos))\n",
    "        nH = int((h * cos) + (w * sin))\n",
    "        # adjust the rotation matrix to take into account translation\n",
    "        M[0, 2] += (nW / 2) - cx\n",
    "        M[1, 2] += (nH / 2) - cy\n",
    "        # Prepare the vector to be transformed\n",
    "        v = [coord[0],coord[1],1]\n",
    "        # Perform the actual rotation and return the image\n",
    "        calculated = np.dot(M,v)\n",
    "        #new_bb[i] = (calculated[0],calculated[1])\n",
    "    return calculated"
   ]
  },
  {
   "cell_type": "code",
   "execution_count": 20,
   "metadata": {},
   "outputs": [
    {
     "data": {
      "text/plain": [
       "(960, 1280)"
      ]
     },
     "execution_count": 20,
     "metadata": {},
     "output_type": "execute_result"
    }
   ],
   "source": [
    "img = cv2.imread('DB.tif').sum(-1)\n",
    "img.shape"
   ]
  },
  {
   "cell_type": "code",
   "execution_count": 21,
   "metadata": {},
   "outputs": [],
   "source": [
    "%matplotlib qt\n",
    "#Transmatrix, rot_image = rotateAndScale(img, scaleFactor = 2, InPlaneRot_Degree = 5)\n",
    "rot_image = rotate_bound(np.float32(img), 5)\n",
    "\n",
    "fig, ax = plt.subplots(2,1)\n",
    "ax[0].imshow(img)\n",
    "ax[1].imshow(rot_image)\n",
    "plt.show()"
   ]
  },
  {
   "cell_type": "code",
   "execution_count": 85,
   "metadata": {},
   "outputs": [
    {
     "data": {
      "text/plain": [
       "array([1166.72551481,  317.07952893])"
      ]
     },
     "execution_count": 85,
     "metadata": {},
     "output_type": "execute_result"
    }
   ],
   "source": [
    "bb = [[1172,304]]\n",
    "(h, w) = img.shape[:2]\n",
    "(cx, cy) = (w // 2, h // 2)\n",
    "\n",
    "(new_h, new_w) = rot_image.shape[:2]\n",
    "(new_cx, new_cy) = (new_w // 2, new_h // 2)\n",
    "\n",
    "reached = rotate_box(bb, cx, cy, h, w, theta=30)\n",
    "reached"
   ]
  },
  {
   "cell_type": "code",
   "execution_count": 86,
   "metadata": {},
   "outputs": [
    {
     "data": {
      "text/plain": [
       "(64.27448518667848, 73.92047106606105)"
      ]
     },
     "execution_count": 86,
     "metadata": {},
     "output_type": "execute_result"
    }
   ],
   "source": [
    "diffx = 1231 - reached[0]\n",
    "diffy = 391 - reached[1]\n",
    "\n",
    "diffx, diffy"
   ]
  },
  {
   "cell_type": "code",
   "execution_count": 73,
   "metadata": {},
   "outputs": [],
   "source": [
    "#desired = 1231,391, diffx = 59"
   ]
  },
  {
   "cell_type": "code",
   "execution_count": 74,
   "metadata": {},
   "outputs": [
    {
     "data": {
      "text/plain": [
       "37.671107225273666"
      ]
     },
     "execution_count": 74,
     "metadata": {},
     "output_type": "execute_result"
    }
   ],
   "source": [
    "(new_cx-cx)*np.cos(np.radians(15))"
   ]
  },
  {
   "cell_type": "code",
   "execution_count": 75,
   "metadata": {},
   "outputs": [],
   "source": [
    "def get_rotation(angle):\n",
    "    angle = np.radians(angle)\n",
    "    return np.array([\n",
    "        [np.cos(angle), -np.sin(angle), 0],\n",
    "        [np.sin(angle),  np.cos(angle), 0],\n",
    "        [0, 0, 1]\n",
    "    ])\n",
    "def get_translation(tx, ty):\n",
    "    return np.array([\n",
    "        [1, 0, tx],\n",
    "        [0, 1, ty],\n",
    "        [0, 0, 1]\n",
    "    ])\n",
    "\n",
    "def get_scale(s):\n",
    "    return np.array([\n",
    "        [s, 0, 0],\n",
    "        [0, s, 0],\n",
    "        [0, 0, 1]\n",
    "    ])\n",
    "\n",
    "R1 = get_rotation(0)\n",
    "T1 = get_translation(0, 0)\n",
    "S1 = get_scale(0.25)"
   ]
  },
  {
   "cell_type": "code",
   "execution_count": 76,
   "metadata": {},
   "outputs": [],
   "source": [
    "M = S1@R1@T1\n",
    "M2D = M[:2]\n",
    "xS,yS = img.shape"
   ]
  },
  {
   "cell_type": "code",
   "execution_count": 79,
   "metadata": {},
   "outputs": [
    {
     "data": {
      "text/plain": [
       "<matplotlib.image.AxesImage at 0x16faaf4fa58>"
      ]
     },
     "execution_count": 79,
     "metadata": {},
     "output_type": "execute_result"
    }
   ],
   "source": [
    "result = cv2.warpAffine(np.float32(img), M2D, (xS,yS), flags=cv2.INTER_LINEAR)\n",
    "plt.imshow(result)"
   ]
  },
  {
   "cell_type": "code",
   "execution_count": 80,
   "metadata": {},
   "outputs": [
    {
     "name": "stdout",
     "output_type": "stream",
     "text": [
      "186\n"
     ]
    },
    {
     "data": {
      "text/plain": [
       "array([2.5, 2.5])"
      ]
     },
     "execution_count": 80,
     "metadata": {},
     "output_type": "execute_result"
    }
   ],
   "source": [
    "print(img[10,10])\n",
    "M2D@[10,10,0]"
   ]
  },
  {
   "cell_type": "code",
   "execution_count": 82,
   "metadata": {},
   "outputs": [
    {
     "data": {
      "text/plain": [
       "171.0"
      ]
     },
     "execution_count": 82,
     "metadata": {},
     "output_type": "execute_result"
    }
   ],
   "source": [
    "result[3,3]"
   ]
  },
  {
   "cell_type": "code",
   "execution_count": 88,
   "metadata": {},
   "outputs": [
    {
     "data": {
      "text/plain": [
       "0.43221046627437304"
      ]
     },
     "execution_count": 88,
     "metadata": {},
     "output_type": "execute_result"
    }
   ],
   "source": [
    "np.arcsin(np.radians(24))"
   ]
  },
  {
   "cell_type": "code",
   "execution_count": 94,
   "metadata": {},
   "outputs": [
    {
     "data": {
      "text/plain": [
       "0.9063077870366499"
      ]
     },
     "execution_count": 94,
     "metadata": {},
     "output_type": "execute_result"
    }
   ],
   "source": [
    "np.cos(np.radians(25))"
   ]
  },
  {
   "cell_type": "code",
   "execution_count": 97,
   "metadata": {},
   "outputs": [
    {
     "data": {
      "text/plain": [
       "[<matplotlib.lines.Line2D at 0x129b59ba240>]"
      ]
     },
     "execution_count": 97,
     "metadata": {},
     "output_type": "execute_result"
    }
   ],
   "source": [
    "angle = [10,20,30]\n",
    "xDiff = [1276-1104,1279-1014, 1279-834]\n",
    "plt.plot(np.radians(angle),xDiff)"
   ]
  },
  {
   "cell_type": "code",
   "execution_count": 98,
   "metadata": {},
   "outputs": [
    {
     "ename": "NameError",
     "evalue": "name 'i' is not defined",
     "output_type": "error",
     "traceback": [
      "\u001b[1;31m---------------------------------------------------------------------------\u001b[0m",
      "\u001b[1;31mNameError\u001b[0m                                 Traceback (most recent call last)",
      "\u001b[1;32m<ipython-input-98-83791762dd51>\u001b[0m in \u001b[0;36m<module>\u001b[1;34m\u001b[0m\n\u001b[1;32m----> 1\u001b[1;33m \u001b[0mself\u001b[0m\u001b[1;33m.\u001b[0m\u001b[0mxWhere\u001b[0m \u001b[1;33m=\u001b[0m \u001b[1;33m(\u001b[0m\u001b[0mi\u001b[0m\u001b[1;33m-\u001b[0m\u001b[0mcx\u001b[0m\u001b[1;33m)\u001b[0m\u001b[1;33m*\u001b[0m\u001b[0mnp\u001b[0m\u001b[1;33m.\u001b[0m\u001b[0mcos\u001b[0m\u001b[1;33m(\u001b[0m\u001b[0mangle\u001b[0m\u001b[1;33m)\u001b[0m\u001b[1;33m-\u001b[0m\u001b[1;33m(\u001b[0m\u001b[1;33m(\u001b[0m\u001b[0mj\u001b[0m\u001b[1;33m-\u001b[0m\u001b[0mcy\u001b[0m\u001b[1;33m)\u001b[0m\u001b[1;33m*\u001b[0m\u001b[0mnp\u001b[0m\u001b[1;33m.\u001b[0m\u001b[0msin\u001b[0m\u001b[1;33m(\u001b[0m\u001b[0mangle\u001b[0m\u001b[1;33m)\u001b[0m\u001b[1;33m)\u001b[0m \u001b[1;33m+\u001b[0m\u001b[0mcx\u001b[0m\u001b[1;33m\u001b[0m\u001b[1;33m\u001b[0m\u001b[0m\n\u001b[0m\u001b[0;32m      2\u001b[0m \u001b[0mself\u001b[0m\u001b[1;33m.\u001b[0m\u001b[0myWhere\u001b[0m \u001b[1;33m=\u001b[0m \u001b[1;33m(\u001b[0m\u001b[0mj\u001b[0m\u001b[1;33m-\u001b[0m\u001b[0mcy\u001b[0m\u001b[1;33m)\u001b[0m\u001b[1;33m*\u001b[0m\u001b[0mnp\u001b[0m\u001b[1;33m.\u001b[0m\u001b[0mcos\u001b[0m\u001b[1;33m(\u001b[0m\u001b[0mangle\u001b[0m\u001b[1;33m)\u001b[0m\u001b[1;33m+\u001b[0m\u001b[1;33m(\u001b[0m\u001b[1;33m(\u001b[0m\u001b[0mi\u001b[0m\u001b[1;33m-\u001b[0m\u001b[0mcx\u001b[0m\u001b[1;33m)\u001b[0m\u001b[1;33m*\u001b[0m\u001b[0mnp\u001b[0m\u001b[1;33m.\u001b[0m\u001b[0msin\u001b[0m\u001b[1;33m(\u001b[0m\u001b[0mangle\u001b[0m\u001b[1;33m)\u001b[0m\u001b[1;33m)\u001b[0m \u001b[1;33m+\u001b[0m\u001b[0mcy\u001b[0m\u001b[1;33m\u001b[0m\u001b[1;33m\u001b[0m\u001b[0m\n",
      "\u001b[1;31mNameError\u001b[0m: name 'i' is not defined"
     ]
    }
   ],
   "source": [
    "self.xWhere = (i-cx)*np.cos(angle)-((j-cy)*np.sin(angle)) +cx\n",
    "self.yWhere = (j-cy)*np.cos(angle)+((i-cx)*np.sin(angle)) +cy"
   ]
  },
  {
   "cell_type": "code",
   "execution_count": null,
   "metadata": {},
   "outputs": [],
   "source": []
  }
 ],
 "metadata": {
  "kernelspec": {
   "display_name": "Python 3",
   "language": "python",
   "name": "python3"
  },
  "language_info": {
   "codemirror_mode": {
    "name": "ipython",
    "version": 3
   },
   "file_extension": ".py",
   "mimetype": "text/x-python",
   "name": "python",
   "nbconvert_exporter": "python",
   "pygments_lexer": "ipython3",
   "version": "3.7.3"
  }
 },
 "nbformat": 4,
 "nbformat_minor": 2
}
