{
 "cells": [
  {
   "cell_type": "code",
   "execution_count": 4,
   "metadata": {},
   "outputs": [],
   "source": [
    "import sys\n",
    "from PyQt5.QtCore import QCoreApplication, Qt\n",
    "from PyQt5.QtGui import QIcon, QColor\n",
    "from PyQt5.QtWidgets import QApplication, QWidget, QMainWindow, QPushButton, QAction, QMessageBox, QDoubleSpinBox\n",
    "from PyQt5.QtWidgets import QCalendarWidget, QFontDialog, QColorDialog, QTextEdit, QFileDialog\n",
    "from PyQt5.QtWidgets import QCheckBox, QProgressBar, QComboBox, QLabel, QStyleFactory, QLineEdit, QInputDialog\n"
   ]
  },
  {
   "cell_type": "code",
   "execution_count": 1,
   "metadata": {},
   "outputs": [],
   "source": [
    "from PyQt5 import QtCore, QtGui, QtWidgets\n",
    "from PyQt5.QtWidgets import QApplication\n",
    "import sys\n",
    "\n",
    "\n",
    "class Ui_MainWindow(object):\n",
    "    def setupUi(self, MainWindow):\n",
    "        MainWindow.setObjectName(\"MainWindow\")\n",
    "        MainWindow.resize(800, 600)\n",
    "        self.centralwidget = QtWidgets.QWidget(MainWindow)\n",
    "        self.centralwidget.setObjectName(\"centralwidget\")\n",
    "        self.gridLayout = QtWidgets.QGridLayout(self.centralwidget)\n",
    "        self.gridLayout.setObjectName(\"gridLayout\")\n",
    "        self.Run_Scan = QtWidgets.QPushButton(self.centralwidget)\n",
    "        self.Run_Scan.setObjectName(\"Run_Scan\")\n",
    "        self.gridLayout.addWidget(self.Run_Scan, 0, 4, 1, 1)\n",
    "        self.X = QtWidgets.QDoubleSpinBox(self.centralwidget)\n",
    "        self.X.setObjectName(\"X\")\n",
    "        self.gridLayout.addWidget(self.X, 0, 0, 1, 1)\n",
    "        self.X.valueChanged.connect(self.valuechange)\n",
    "        self.Dwell_Time = QtWidgets.QDoubleSpinBox(self.centralwidget)\n",
    "        self.Dwell_Time.setObjectName(\"Dwell_Time\")\n",
    "        self.gridLayout.addWidget(self.Dwell_Time, 0, 3, 1, 1)\n",
    "        self.X_end = QtWidgets.QDoubleSpinBox(self.centralwidget)\n",
    "        self.X_end.setObjectName(\"X_end\")\n",
    "        self.gridLayout.addWidget(self.X_end, 0, 1, 1, 1)\n",
    "        self.X_num = QtWidgets.QSpinBox(self.centralwidget)\n",
    "        self.X_num.setObjectName(\"X_num\")\n",
    "        self.gridLayout.addWidget(self.X_num, 0, 2, 1, 1)\n",
    "        MainWindow.setCentralWidget(self.centralwidget)\n",
    "        self.menubar = QtWidgets.QMenuBar(MainWindow)\n",
    "        self.menubar.setGeometry(QtCore.QRect(0, 0, 800, 21))\n",
    "        self.menubar.setObjectName(\"menubar\")\n",
    "        MainWindow.setMenuBar(self.menubar)\n",
    "        self.statusbar = QtWidgets.QStatusBar(MainWindow)\n",
    "        self.statusbar.setObjectName(\"statusbar\")\n",
    "        MainWindow.setStatusBar(self.statusbar)\n",
    "\n",
    "        self.retranslateUi(MainWindow)\n",
    "        QtCore.QMetaObject.connectSlotsByName(MainWindow)\n",
    "\n",
    "    def retranslateUi(self, MainWindow):\n",
    "        _translate = QtCore.QCoreApplication.translate\n",
    "        MainWindow.setWindowTitle(_translate(\"MainWindow\", \"MainWindow\"))\n",
    "        self.Run_Scan.setText(_translate(\"MainWindow\", \"Run\"))\n",
    "\t\t\n",
    "if __name__ == \"__main__\":  # had to add this otherwise app crashed\n",
    "\n",
    "    def run():\n",
    "        app = QApplication(sys.argv)\n",
    "        Gui = Ui_MainWindow()\n",
    "        sys.exit(app.exec_())"
   ]
  },
  {
   "cell_type": "code",
   "execution_count": null,
   "metadata": {},
   "outputs": [],
   "source": [
    "run()"
   ]
  },
  {
   "cell_type": "code",
   "execution_count": null,
   "metadata": {},
   "outputs": [],
   "source": []
  }
 ],
 "metadata": {
  "kernelspec": {
   "display_name": "Python 3",
   "language": "python",
   "name": "python3"
  },
  "language_info": {
   "codemirror_mode": {
    "name": "ipython",
    "version": 3
   },
   "file_extension": ".py",
   "mimetype": "text/x-python",
   "name": "python",
   "nbconvert_exporter": "python",
   "pygments_lexer": "ipython3",
   "version": "3.6.5"
  }
 },
 "nbformat": 4,
 "nbformat_minor": 2
}
