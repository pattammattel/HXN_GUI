{
 "cells": [
  {
   "cell_type": "markdown",
   "metadata": {},
   "source": [
    "# Workflow\n",
    "\n",
    "The function ask user to find two landmarks in the SEM/Optical image preferably in a digonal path. When the sample is in the X-ray microscope go to the center at the landmarks and the program records the  coarse X & Y positions. Using these info the image will be replotted with X-ray motor axes. At the beamline the coordinates can be generated from motor positions. \n",
    "\n",
    "# Pros\n",
    "\n",
    "Independent of image source. SEM, otical or XRF, IR can be used as reference image\n",
    "\n",
    "# Cons\n",
    "\n",
    "Feature based\n",
    "\n",
    "# Requirements\n",
    "\n",
    "An SEM/Optical image of the sample, preferably at the same orientation as loaded to the microscope. In the future some functions to scale and rotate the images will be added. Currently this code work only with TIFF and PNG images\n"
   ]
  },
  {
   "cell_type": "code",
   "execution_count": 17,
   "metadata": {},
   "outputs": [],
   "source": [
    "import sys\n",
    "import os\n",
    "import collections\n",
    "import tifffile as tf\n",
    "import matplotlib.pyplot as plt\n",
    "import numpy as np\n",
    "\n",
    "%matplotlib qt\n",
    "#%matplotlib inline"
   ]
  },
  {
   "cell_type": "code",
   "execution_count": 18,
   "metadata": {},
   "outputs": [
    {
     "data": {
      "text/plain": [
       "<matplotlib.image.AxesImage at 0x14c2b927550>"
      ]
     },
     "execution_count": 18,
     "metadata": {},
     "output_type": "execute_result"
    }
   ],
   "source": [
    "im = plt.imread('FeS2_0052.tif')\n",
    "#im = plt.imread('test.png')\n",
    "plt.figure()\n",
    "plt.imshow(im)"
   ]
  },
  {
   "cell_type": "code",
   "execution_count": 19,
   "metadata": {},
   "outputs": [
    {
     "data": {
      "text/plain": [
       "(960, 1280)"
      ]
     },
     "execution_count": 19,
     "metadata": {},
     "output_type": "execute_result"
    }
   ],
   "source": [
    "im.shape"
   ]
  },
  {
   "cell_type": "code",
   "execution_count": 20,
   "metadata": {},
   "outputs": [],
   "source": [
    "yshape, xshape = np.shape(im)\n",
    "\n",
    "lm1_px, lm1_py = 100, 300 #user chooses this pixel\n",
    "lm2_px, lm2_py = 1165, 700 #user chooses this pixel\n",
    "\n",
    "lm1_x, lm1_y = -1,0.5 #motor values from the microscope at pixel pos 1\n",
    "lm2_x, lm2_y = 0.5,1 #motor values from the microscope at pixel pos 2\n",
    "\n",
    "pixel_val_x = abs(lm2_x-lm1_x)/abs(lm2_px-lm1_px) # pixel value of X\n",
    "pixel_val_y = abs(lm2_y-lm1_y)/abs(lm2_py-lm1_py) # pixel value of Y; ususally same as X\n",
    "\n",
    "xi = lm1_x - (pixel_val_x*lm1_px) # xmotor pos at origin (0,0)\n",
    "xf = xi + (pixel_val_x*xshape) # xmotor pos at origin (0,0)\n",
    "\n",
    "yi = lm1_y - (pixel_val_y*lm1_py) # xmotor pos at origin (0,0)\n",
    "yf = yi + (pixel_val_y*yshape) # xmotor pos at origin (0,0)\n",
    "\n",
    "#Note that we are assuming no rotation; if rotated xf mutliplied by cos(theta)?"
   ]
  },
  {
   "cell_type": "code",
   "execution_count": 21,
   "metadata": {},
   "outputs": [
    {
     "name": "stdout",
     "output_type": "stream",
     "text": [
      " Move to X = -0.6839099110793796 and Y = 0.5067914328591294\n",
      " Move to X = -0.5076814749690717 and Y = 0.8869413450399366\n",
      " Move to X = 0.5219961017325849 and Y = 0.9574327194840598\n"
     ]
    }
   ],
   "source": [
    "\n",
    "fig, ax = plt.subplots(figsize=(6,6))\n",
    "ax.imshow(im, interpolation='none', extent=[xi,xf,yf,yi]) #this is the value to find from SEM\n",
    "ax.set_xlabel('smarx')\n",
    "ax.set_ylabel('smary')\n",
    "\n",
    "coords = collections.deque(maxlen=2)\n",
    "\n",
    "def onclick(event):\n",
    "    ix, iy = event.xdata, event.ydata\n",
    "\n",
    "    coords.append((ix, iy))\n",
    "    print(f' Move to X = {coords[-1][0]} and Y = {coords[-1][1]}')\n",
    "\n",
    "    \n",
    "\n",
    "cid = fig.canvas.mpl_connect('button_press_event', onclick)\n"
   ]
  },
  {
   "cell_type": "code",
   "execution_count": 16,
   "metadata": {},
   "outputs": [
    {
     "data": {
      "text/plain": [
       "Text(0,0.5,'smary')"
      ]
     },
     "execution_count": 16,
     "metadata": {},
     "output_type": "execute_result"
    }
   ],
   "source": [
    "fig, ax = plt.subplots(figsize=(6,6))\n",
    "ax.imshow(im, interpolation='none', extent=[xi,xf,yf,yi]) #this is the value to find from SEM\n",
    "ax.set_xlabel('smarx')\n",
    "ax.set_ylabel('smary')\n",
    "\n",
    "#Need to varify the extend part. Matplot linb left bottom is not (0,0)"
   ]
  },
  {
   "cell_type": "markdown",
   "metadata": {},
   "source": [
    "# Rotation\n",
    "If the sample is rotated after the calculation the X axis should be recalculated "
   ]
  },
  {
   "cell_type": "code",
   "execution_count": 8,
   "metadata": {},
   "outputs": [],
   "source": [
    "# xf *= np.cos(65*np.pi/180) #assumimg 45 degree rotation"
   ]
  },
  {
   "cell_type": "code",
   "execution_count": null,
   "metadata": {},
   "outputs": [],
   "source": []
  }
 ],
 "metadata": {
  "kernelspec": {
   "display_name": "Python 3",
   "language": "python",
   "name": "python3"
  },
  "language_info": {
   "codemirror_mode": {
    "name": "ipython",
    "version": 3
   },
   "file_extension": ".py",
   "mimetype": "text/x-python",
   "name": "python",
   "nbconvert_exporter": "python",
   "pygments_lexer": "ipython3",
   "version": "3.6.5"
  }
 },
 "nbformat": 4,
 "nbformat_minor": 2
}
